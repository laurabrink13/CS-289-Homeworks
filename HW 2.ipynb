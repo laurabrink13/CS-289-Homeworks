{
 "cells": [
  {
   "cell_type": "markdown",
   "metadata": {},
   "source": [
    "# HW 2, problem 5"
   ]
  },
  {
   "cell_type": "code",
   "execution_count": 18,
   "metadata": {
    "collapsed": false
   },
   "outputs": [
    {
     "data": {
      "text/plain": [
       "20"
      ]
     },
     "execution_count": 18,
     "metadata": {},
     "output_type": "execute_result"
    }
   ],
   "source": [
    "# A lot of my solution is borrowed from code from discussion 2\n",
    "\n",
    "import numpy as np\n",
    "import scipy.io\n",
    "import numpy.linalg as linalg\n",
    "import matplotlib.pyplot as plt\n",
    "%matplotlib inline\n",
    "import itertools\n",
    "\n",
    "#import data from files\n",
    "poly = scipy.io.loadmat(\"1D_POLY_new.MAT\")\n",
    "\n",
    "x_train=poly['x_train']\n",
    "y_fresh=poly['y_fresh']\n",
    "y_train=poly['y_train']\n",
    "# also flatten the data\n",
    "x_train=x_train.flatten()\n",
    "y_fresh=y_fresh.flatten()\n",
    "y_train=y_train.flatten()\n",
    "\n",
    "# print(x_train)\n",
    "len(x_train)"
   ]
  },
  {
   "cell_type": "markdown",
   "metadata": {},
   "source": [
    "Part B:"
   ]
  },
  {
   "cell_type": "code",
   "execution_count": 3,
   "metadata": {
    "collapsed": false
   },
   "outputs": [],
   "source": [
    "# create a matrix \n",
    "# use the size of the data and the polynomial degree\n",
    "def create_matrix(length,degree,x):\n",
    "    A = np.zeros((length, degree+1))\n",
    "# set each column to be a data raised to a power\n",
    "    for i in range(0, degree+1):\n",
    "        A[:,i]=x**i\n",
    "    return A"
   ]
  },
  {
   "cell_type": "code",
   "execution_count": 4,
   "metadata": {
    "collapsed": true
   },
   "outputs": [],
   "source": [
    "# define the regression function, when lam=0 then we have OLS\n",
    "def my_regression(A,b,lam):\n",
    "# first find A^TA\n",
    "    At=np.dot(A.T,A)\n",
    "# then for ridge regression find the shape for the I matrix\n",
    "    Ishape = At.shape[0]\n",
    "# add the lam*I to the At\n",
    "    Atr=At+np.identity(Ishape)*lam\n",
    "# we are trying to solve (Atr)x=A^Ty, solve linear equations\n",
    "    Aty=np.dot(A.T,b)\n",
    "    M=linalg.solve(Atr,Aty)\n",
    "    return M"
   ]
  },
  {
   "cell_type": "code",
   "execution_count": 11,
   "metadata": {
    "collapsed": true
   },
   "outputs": [],
   "source": [
    "# create the prediction matrix from OLS matrix and training\n",
    "def create_prediction_matrix(ols, x):\n",
    "    prediction_matrix = []\n",
    "    for i in range(0, len(x)):\n",
    "# reset the p=0 for every loop\n",
    "        p=0.00\n",
    "\n",
    "        for j in range(0,len(ols)):\n",
    "            p+=ols[j]*(x[i])**j\n",
    "        prediction_matrix.append(p)\n",
    "    return prediction_matrix"
   ]
  },
  {
   "cell_type": "code",
   "execution_count": 6,
   "metadata": {
    "collapsed": true
   },
   "outputs": [],
   "source": [
    "# calculate error between predictions\n",
    "def error(y_prediction, y):\n",
    "    return np.sum((y_prediction-y)**2)/len(y)"
   ]
  },
  {
   "cell_type": "code",
   "execution_count": 7,
   "metadata": {
    "collapsed": false
   },
   "outputs": [
    {
     "data": {
      "text/plain": [
       "[<matplotlib.lines.Line2D at 0x136b5e7ffd0>]"
      ]
     },
     "execution_count": 7,
     "metadata": {},
     "output_type": "execute_result"
    },
    {
     "data": {
      "image/png": "[encoded data removed]",
      "text/plain": [
       "<matplotlib.figure.Figure at 0x136b0e1fc18>"
      ]
     },
     "metadata": {},
     "output_type": "display_data"
    }
   ],
   "source": [
    "# use the functions defined above to run the OLS and test\n",
    "\n",
    "error_matrix = []\n",
    "ols_matrix = []\n",
    "for i in range(0, len(x_train)):\n",
    "# create the matrix of polynomials from the data\n",
    "    P = create_matrix(len(x_train), i, x_train)\n",
    "# run OLS so set lambda=0 for my regression\n",
    "    ols = my_regression(P, y_train,0)\n",
    "    prediction_matrix = create_prediction_matrix(ols, x_train)\n",
    "    y_error = error(prediction_matrix, y_train)\n",
    "# add the current error to the error matrix\n",
    "    error_matrix.append(y_error)\n",
    "# add the current ols coefficient to the ols matrix - to be used in part d\n",
    "    ols_matrix.append(ols)\n",
    "plt.plot(np.arange(0,len(x_train),1), error_matrix,\"o\")"
   ]
  },
  {
   "cell_type": "markdown",
   "metadata": {},
   "source": [
    "Part C:\n",
    "\n",
    "In the above plot, the x axis is the degree of the polynomial and the y axis is the error.\n",
    "The error will always be decreasing with higher degree because this is just a plot of error from training data.\n",
    "The benefit from increasing polynomial degree will be decreasing though, as seen in the plateau in the graph.  \n",
    "This suggests that the data may have been orginally generated from a 3 or 4th degree polynomial as that is where the plateau begins. \n",
    "\n",
    "If you try to fit a polynomial of degree n with a standard matrix inversion method then the value of D will determine\n",
    "whether the system of linear equations is under or over determined system."
   ]
  },
  {
   "cell_type": "markdown",
   "metadata": {},
   "source": [
    "Part D:\n",
    "\n",
    "In this part we are testing how well the OLS model can handle noise.  i.e. the y values are generated for the same x values that were used in training but there is a new noise."
   ]
  },
  {
   "cell_type": "code",
   "execution_count": 8,
   "metadata": {
    "collapsed": false
   },
   "outputs": [
    {
     "data": {
      "text/plain": [
       "[<matplotlib.lines.Line2D at 0x136b5eadb70>]"
      ]
     },
     "execution_count": 8,
     "metadata": {},
     "output_type": "execute_result"
    },
    {
     "data": {
      "image/png": "[encoded data removed]",
      "text/plain": [
       "<matplotlib.figure.Figure at 0x136b5eadc88>"
      ]
     },
     "metadata": {},
     "output_type": "display_data"
    }
   ],
   "source": [
    "error_matrix_fresh = []\n",
    "for i in range(0, len(x_train)):\n",
    "# use the previous ols coefficient matrix\n",
    "    prediction_matrix = create_prediction_matrix(ols_matrix[i], x_train)\n",
    "    y_error_fresh = error(prediction_matrix, y_fresh)\n",
    "    # add the current error to the error matrix\n",
    "    error_matrix_fresh.append(y_error_fresh)\n",
    "    \n",
    "plt.plot(np.arange(0,len(x_train),1), error_matrix,\"o\")\n",
    "plt.plot(np.arange(0,len(x_train),1), error_matrix_fresh, \"o\")"
   ]
  },
  {
   "cell_type": "markdown",
   "metadata": {},
   "source": [
    "The plot above shows the original plot from part b in blue and the new plot in orange.  \n",
    "The new plot in orange is on the y_fresh, or the test data.  This shows that as the polynomial degree increases, there may be overfitting because the test error is increasing.  Without this plot, we wouldn't be able to see if overfitting was happening or not."
   ]
  },
  {
   "cell_type": "markdown",
   "metadata": {},
   "source": [
    "Part E:\n",
    "\n",
    "In order to select the right polynomial degree, the two plots are useful.  The one will show the training error and the other shows the test error.  The training error plot gives and idea how much benefit increasing the polynomial by a degree, i.e. how much does the error decreases in one degree step.  From the plot, it seems that it plateaus after the 4th or 5th degree.  The test error plot shows that higher degress may be overfitting the data.  The minimum of both training and testing error is the right polynomial degree.  Based on the plots, it looks to be a 4th degree polynomial."
   ]
  },
  {
   "cell_type": "markdown",
   "metadata": {},
   "source": [
    "Part F:\n",
    "\n",
    "Now instead of a univariate polynomial, we believe the underlying function may be a multivariate polynomial.\n",
    "There are 5 attributes to consider.  We will use ridge regression with lam=0.1.\n",
    "I want to split the data up into a testing section (about 10%)\n",
    "Then from the rest I want to split into 70% training and 30% validation"
   ]
  },
  {
   "cell_type": "code",
   "execution_count": 9,
   "metadata": {
    "collapsed": false
   },
   "outputs": [],
   "source": [
    "reg= scipy.io.loadmat(\"polynomial_regression_samples.mat\")\n",
    "# print(reg)\n",
    "x=reg['x']\n",
    "# each column of x is a component and each row is a data point\n",
    "y=reg['y']\n",
    "\n",
    "# x.shape\n",
    "\n",
    "# print(x[1,:])"
   ]
  },
  {
   "cell_type": "code",
   "execution_count": 12,
   "metadata": {
    "collapsed": false
   },
   "outputs": [],
   "source": [
    "# # seperate out the testing data \n",
    "\n",
    "# num_samples=len(y)\n",
    "# # choose 10% to be testing data\n",
    "# num_test=num_samples/10\n",
    "\n",
    "# x_test=np.zeros((num_test,5))\n",
    "# x_else=np.zeros(((num_samples-num_test),5))\n",
    "# y_test=[]\n",
    "# y_else=[]\n",
    "# for k in range(0, len(y)-2):\n",
    "#     if k < num_test:\n",
    "#         x_test[k,:]=x[k,:]\n",
    "#         y_test.append(y[k])\n",
    "#     else:\n",
    "#         x_else[k,:]=x[k,:]\n",
    "#         y_else.append(y[k])\n",
    "        "
   ]
  },
  {
   "cell_type": "code",
   "execution_count": 28,
   "metadata": {
    "collapsed": true
   },
   "outputs": [],
   "source": [
    "# create the multivariate matrix \n",
    "def create_multi_matrix(x_train, degree,shape):\n",
    "    multi = np.ones((shape,1))\n",
    "    for i in range (1,degree + 1):\n",
    "# line below taken from https://docs.python.org/2/library/itertools.html\n",
    "        iterator = itertools.combinations_with_replacement([0,1,2,3,4],i)\n",
    "#     run through all iterations\n",
    "        for j in iterator:\n",
    "            s = np.ones((shape,1))\n",
    "#             run through all values up through current iteration\n",
    "            for k in j:\n",
    "                s = s*x_train[:,k].reshape((shape, 1))\n",
    "            multi = np.concatenate((multi,s), axis=1)\n",
    "    return multi"
   ]
  },
  {
   "cell_type": "code",
   "execution_count": 38,
   "metadata": {
    "collapsed": false
   },
   "outputs": [
    {
     "name": "stdout",
     "output_type": "stream",
     "text": [
      "75000\n",
      "0.351759031787\n"
     ]
    }
   ],
   "source": [
    "# Basic steps, will put in for loop below\n",
    "\n",
    "# split the data into 4 parts\n",
    "x1,x2,x3,x4 = np.split(x, 4)\n",
    "y1,y2,y3,y4 = np.split(y,4)\n",
    "\n",
    "# choose the training data\n",
    "x_train = np.vstack((x1,x2,x3))\n",
    "# print(train.shape[0])\n",
    "shape=x_train.shape[0]\n",
    "#shape=75000\n",
    "print(shape)\n",
    "\n",
    "multi = create_multi_matrix(x_train,4,shape)\n",
    "ridge = my_regression(multi,np.vstack((y1, y2, y3)),0.1)\n",
    "new_error = create_prediction_matrix(ridge, x4)\n",
    "e=error(new_error, y4)\n",
    "print(e)"
   ]
  },
  {
   "cell_type": "code",
   "execution_count": 39,
   "metadata": {
    "collapsed": true
   },
   "outputs": [],
   "source": [
    "#returns the validation error with 4-fold-cross-validation\n",
    "def cross_loop(x_train, y_train, degree, lamda):\n",
    "    x_train_split = np.split(x_train, 4)\n",
    "    y_train_split = np.split(y_train,4)\n",
    "    error = 0\n",
    "    \n",
    "    for i in range(0,4):\n",
    "#         print(i)\n",
    "        train_index = [0,1,2,3]\n",
    "        train_index.remove(i)\n",
    "        x_train_set = np.vstack((x_train_split[train_index[0]], x_train_split[train_index[1]], x_train_split[train_index[2]]))\n",
    "        y_train_set = np.vstack((y_train_split[train_index[0]], y_train_split[train_index[1]], y_train_split[train_index[2]]))\n",
    "        x_validation_set = x_train_split[i]\n",
    "        y_validation_set = y_train_split[i]\n",
    "        \n",
    "        shape=75000\n",
    "        # Regressing with this particular set\n",
    "        multi = create_multi_matrix(x_train,4,shape)\n",
    "        ridge = my_regression(multi,np.vstack((y1, y2, y3)),0.1)\n",
    "        new_error = create_prediction_matrix(ridge, x4)\n",
    "        e=error(new_error, y_validation_set)\n",
    "        error = error + average_error\n",
    "    \n",
    "    return error / 4"
   ]
  },
  {
   "cell_type": "code",
   "execution_count": 40,
   "metadata": {
    "collapsed": false
   },
   "outputs": [
    {
     "ename": "ValueError",
     "evalue": "total size of new array must be unchanged",
     "output_type": "error",
     "traceback": [
      "\u001b[0;31m---------------------------------------------------------------------------\u001b[0m",
      "\u001b[0;31mValueError\u001b[0m                                Traceback (most recent call last)",
      "\u001b[0;32m<ipython-input-40-c36b61e810c1>\u001b[0m in \u001b[0;36m<module>\u001b[0;34m()\u001b[0m\n\u001b[0;32m----> 1\u001b[0;31m \u001b[0muno\u001b[0m\u001b[1;33m=\u001b[0m\u001b[0mcross_loop\u001b[0m\u001b[1;33m(\u001b[0m\u001b[0mx\u001b[0m\u001b[1;33m,\u001b[0m \u001b[0my\u001b[0m\u001b[1;33m,\u001b[0m \u001b[1;36m1\u001b[0m\u001b[1;33m,\u001b[0m \u001b[1;36m0.1\u001b[0m\u001b[1;33m)\u001b[0m\u001b[1;33m\u001b[0m\u001b[0m\n\u001b[0m\u001b[1;32m      2\u001b[0m \u001b[0mdue\u001b[0m\u001b[1;33m=\u001b[0m\u001b[0mcross_loop\u001b[0m\u001b[1;33m(\u001b[0m\u001b[0mx\u001b[0m\u001b[1;33m,\u001b[0m \u001b[0my\u001b[0m\u001b[1;33m,\u001b[0m \u001b[1;36m2\u001b[0m\u001b[1;33m,\u001b[0m \u001b[1;36m0.1\u001b[0m\u001b[1;33m)\u001b[0m\u001b[1;33m\u001b[0m\u001b[0m\n\u001b[1;32m      3\u001b[0m \u001b[0mtre\u001b[0m\u001b[1;33m=\u001b[0m\u001b[0mcross_loop\u001b[0m\u001b[1;33m(\u001b[0m\u001b[0mx\u001b[0m\u001b[1;33m,\u001b[0m \u001b[0my\u001b[0m\u001b[1;33m,\u001b[0m \u001b[1;36m3\u001b[0m\u001b[1;33m,\u001b[0m \u001b[1;36m0.1\u001b[0m\u001b[1;33m)\u001b[0m\u001b[1;33m\u001b[0m\u001b[0m\n\u001b[1;32m      4\u001b[0m \u001b[0mquattro\u001b[0m\u001b[1;33m=\u001b[0m\u001b[0mcross_loop\u001b[0m\u001b[1;33m(\u001b[0m\u001b[0mx\u001b[0m\u001b[1;33m,\u001b[0m \u001b[0my\u001b[0m\u001b[1;33m,\u001b[0m \u001b[1;36m4\u001b[0m\u001b[1;33m,\u001b[0m \u001b[1;36m0.1\u001b[0m\u001b[1;33m)\u001b[0m\u001b[1;33m\u001b[0m\u001b[0m\n",
      "\u001b[0;32m<ipython-input-39-e1c704fb5770>\u001b[0m in \u001b[0;36mcross_loop\u001b[0;34m(x_train, y_train, degree, lamda)\u001b[0m\n\u001b[1;32m     16\u001b[0m         \u001b[0mshape\u001b[0m\u001b[1;33m=\u001b[0m\u001b[1;36m75000\u001b[0m\u001b[1;33m\u001b[0m\u001b[0m\n\u001b[1;32m     17\u001b[0m         \u001b[1;31m# Regressing with this particular set\u001b[0m\u001b[1;33m\u001b[0m\u001b[1;33m\u001b[0m\u001b[0m\n\u001b[0;32m---> 18\u001b[0;31m         \u001b[0mmulti\u001b[0m \u001b[1;33m=\u001b[0m \u001b[0mcreate_multi_matrix\u001b[0m\u001b[1;33m(\u001b[0m\u001b[0mx_train\u001b[0m\u001b[1;33m,\u001b[0m\u001b[1;36m4\u001b[0m\u001b[1;33m,\u001b[0m\u001b[0mshape\u001b[0m\u001b[1;33m)\u001b[0m\u001b[1;33m\u001b[0m\u001b[0m\n\u001b[0m\u001b[1;32m     19\u001b[0m         \u001b[0mridge\u001b[0m \u001b[1;33m=\u001b[0m \u001b[0mmy_regression\u001b[0m\u001b[1;33m(\u001b[0m\u001b[0mmulti\u001b[0m\u001b[1;33m,\u001b[0m\u001b[0mnp\u001b[0m\u001b[1;33m.\u001b[0m\u001b[0mvstack\u001b[0m\u001b[1;33m(\u001b[0m\u001b[1;33m(\u001b[0m\u001b[0my1\u001b[0m\u001b[1;33m,\u001b[0m \u001b[0my2\u001b[0m\u001b[1;33m,\u001b[0m \u001b[0my3\u001b[0m\u001b[1;33m)\u001b[0m\u001b[1;33m)\u001b[0m\u001b[1;33m,\u001b[0m\u001b[1;36m0.1\u001b[0m\u001b[1;33m)\u001b[0m\u001b[1;33m\u001b[0m\u001b[0m\n\u001b[1;32m     20\u001b[0m         \u001b[0mnew_error\u001b[0m \u001b[1;33m=\u001b[0m \u001b[0mcreate_prediction_matrix\u001b[0m\u001b[1;33m(\u001b[0m\u001b[0mridge\u001b[0m\u001b[1;33m,\u001b[0m \u001b[0mx4\u001b[0m\u001b[1;33m)\u001b[0m\u001b[1;33m\u001b[0m\u001b[0m\n",
      "\u001b[0;32m<ipython-input-28-8a7f6c63a98e>\u001b[0m in \u001b[0;36mcreate_multi_matrix\u001b[0;34m(x_train, degree, shape)\u001b[0m\n\u001b[1;32m     10\u001b[0m \u001b[1;31m#             run through all values up through current iteration\u001b[0m\u001b[1;33m\u001b[0m\u001b[1;33m\u001b[0m\u001b[0m\n\u001b[1;32m     11\u001b[0m             \u001b[1;32mfor\u001b[0m \u001b[0mk\u001b[0m \u001b[1;32min\u001b[0m \u001b[0mj\u001b[0m\u001b[1;33m:\u001b[0m\u001b[1;33m\u001b[0m\u001b[0m\n\u001b[0;32m---> 12\u001b[0;31m                 \u001b[0ms\u001b[0m \u001b[1;33m=\u001b[0m \u001b[0ms\u001b[0m\u001b[1;33m*\u001b[0m\u001b[0mx_train\u001b[0m\u001b[1;33m[\u001b[0m\u001b[1;33m:\u001b[0m\u001b[1;33m,\u001b[0m\u001b[0mk\u001b[0m\u001b[1;33m]\u001b[0m\u001b[1;33m.\u001b[0m\u001b[0mreshape\u001b[0m\u001b[1;33m(\u001b[0m\u001b[1;33m(\u001b[0m\u001b[0mshape\u001b[0m\u001b[1;33m,\u001b[0m \u001b[1;36m1\u001b[0m\u001b[1;33m)\u001b[0m\u001b[1;33m)\u001b[0m\u001b[1;33m\u001b[0m\u001b[0m\n\u001b[0m\u001b[1;32m     13\u001b[0m             \u001b[0mmulti\u001b[0m \u001b[1;33m=\u001b[0m \u001b[0mnp\u001b[0m\u001b[1;33m.\u001b[0m\u001b[0mconcatenate\u001b[0m\u001b[1;33m(\u001b[0m\u001b[1;33m(\u001b[0m\u001b[0mmulti\u001b[0m\u001b[1;33m,\u001b[0m\u001b[0ms\u001b[0m\u001b[1;33m)\u001b[0m\u001b[1;33m,\u001b[0m \u001b[0maxis\u001b[0m\u001b[1;33m=\u001b[0m\u001b[1;36m1\u001b[0m\u001b[1;33m)\u001b[0m\u001b[1;33m\u001b[0m\u001b[0m\n\u001b[1;32m     14\u001b[0m     \u001b[1;32mreturn\u001b[0m \u001b[0mmulti\u001b[0m\u001b[1;33m\u001b[0m\u001b[0m\n",
      "\u001b[0;31mValueError\u001b[0m: total size of new array must be unchanged"
     ]
    }
   ],
   "source": [
    "uno=cross_loop(x, y, 1, 0.1)\n",
    "due=cross_loop(x, y, 2, 0.1)\n",
    "tre=cross_loop(x, y, 3, 0.1)\n",
    "quattro=cross_loop(x, y, 4, 0.1)\n"
   ]
  },
  {
   "cell_type": "code",
   "execution_count": null,
   "metadata": {
    "collapsed": false
   },
   "outputs": [],
   "source": [
    "# Part G: repeat for all of the lambdas\n",
    "\n",
    "lambdas = [0.05,0.1,0.15,0.2]\n",
    "for degree in range(1,5):\n",
    "    for l in range(0,4):\n",
    "        print(cross_loop(x,y,degree,lambdas[l]))"
   ]
  },
  {
   "cell_type": "markdown",
   "metadata": {
    "collapsed": true
   },
   "source": [
    "From what I had seen, the error was actually pretty similar, not a large magnitude off from each other.  \n",
    "Though, I would have to choose degree 3 to be the best from previous parts and errors seen here"
   ]
  },
  {
   "cell_type": "code",
   "execution_count": null,
   "metadata": {
    "collapsed": true
   },
   "outputs": [],
   "source": []
  }
 ],
 "metadata": {
  "kernelspec": {
   "display_name": "Python 3",
   "language": "python",
   "name": "python3"
  },
  "language_info": {
   "codemirror_mode": {
    "name": "ipython",
    "version": 3
   },
   "file_extension": ".py",
   "mimetype": "text/x-python",
   "name": "python",
   "nbconvert_exporter": "python",
   "pygments_lexer": "ipython3",
   "version": "3.6.0"
  }
 },
 "nbformat": 4,
 "nbformat_minor": 2
}

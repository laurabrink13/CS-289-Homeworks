{
 "cells": [
  {
   "cell_type": "markdown",
   "metadata": {},
   "source": [
    "# 4. Sensors, Objects, and Localization"
   ]
  },
  {
   "cell_type": "code",
   "execution_count": 1,
   "metadata": {
    "collapsed": true
   },
   "outputs": [],
   "source": [
    "import numpy as np\n",
    "import scipy.spatial\n",
    "\n",
    "########################################################################\n",
    "#########  Data Generating Functions ###################################\n",
    "########################################################################\n",
    "def generate_sensors(k = 7, d = 2):\n",
    "\t\"\"\"\n",
    "\tGenerate sensor locations. \n",
    "\tInput:\n",
    "\tk: The number of sensors.\n",
    "\td: The spatial dimension.\n",
    "\tOutput:\n",
    "\tsensor_loc: k * d numpy array.\n",
    "\t\"\"\"\n",
    "\tsensor_loc = 100*np.random.randn(k,d)\n",
    "\treturn sensor_loc\n",
    "\n",
    "def generate_data(sensor_loc, k = 7, d = 2, \n",
    "\t\t\t\t n = 1, original_dist = True):\n",
    "\t\"\"\"\n",
    "\tGenerate the locations of n points.  \n",
    "\n",
    "\tInput:\n",
    "\tsensor_loc: k * d numpy array. Location of sensor. \n",
    "\tk: The number of sensors.\n",
    "\td: The spatial dimension.\n",
    "\tn: The number of points.\n",
    "\toriginal_dist: Whether the data are generated from the original \n",
    "\tdistribution. \n",
    "\n",
    "\tOutput:\n",
    "\tobj_loc: n * d numpy array. The location of the n objects. \n",
    "\tdistance: n * k numpy array. The distance between object and \n",
    "\tthe k sensors. \n",
    "\t\"\"\"\n",
    "\tassert k, d == sensor_loc.shape\n",
    "\n",
    "\tobj_loc = 100*np.random.randn(n, d)\n",
    "\tif not original_dist:\n",
    "\t   obj_loc += 1000\n",
    "\t   \n",
    "\tdistance = scipy.spatial.distance.cdist(obj_loc, \n",
    "\t\t\t\t\t\t\t\t\t\t   sensor_loc, \n",
    "\t\t\t\t\t\t\t\t\t\t   metric='euclidean')\n",
    "\tdistance += np.random.randn(n, k)  \n",
    "\treturn obj_loc, distance\n"
   ]
  },
  {
   "cell_type": "markdown",
   "metadata": {},
   "source": [
    "Part B: Solve for the maximum likelihood estimator"
   ]
  },
  {
   "cell_type": "code",
   "execution_count": 2,
   "metadata": {
    "collapsed": true
   },
   "outputs": [],
   "source": [
    "##################################################################\n",
    "# Starter code for Part (b)\n",
    "##################################################################\n",
    "np.random.seed(0)\n",
    "sensor_loc = generate_sensors()\n",
    "obj_loc, distance = generate_data(sensor_loc)\n",
    "single_distance = distance[0]"
   ]
  },
  {
   "cell_type": "code",
   "execution_count": 4,
   "metadata": {
    "collapsed": false
   },
   "outputs": [
    {
     "data": {
      "text/plain": [
       "array([[ 133.68028365,  197.87499785,  193.84607398,   69.25435798,\n",
       "          52.69337983,  116.65509922,   39.01458252]])"
      ]
     },
     "execution_count": 4,
     "metadata": {},
     "output_type": "execute_result"
    }
   ],
   "source": [
    "distance"
   ]
  },
  {
   "cell_type": "markdown",
   "metadata": {},
   "source": [
    "Part C: Local Minima of Gradient Descent"
   ]
  },
  {
   "cell_type": "code",
   "execution_count": null,
   "metadata": {
    "collapsed": true
   },
   "outputs": [],
   "source": [
    "\n",
    "##################################################################\n",
    "# Starter code for Part (c)\n",
    "##################################################################\n",
    "def generate_data_given_location(sensor_loc, obj_loc, k = 7, d = 2):\n",
    "\t\"\"\"\n",
    "\tGenerate the distance measurements given location of a single object and sensor. \n",
    "\n",
    "\tInput:\n",
    "\tobj_loc: 1 * d numpy array. Location of object\n",
    "\tsensor_loc: k * d numpy array. Location of sensor. \n",
    "\tk: The number of sensors.\n",
    "\td: The spatial dimension. \n",
    "\n",
    "\tOutput: \n",
    "\tdistance: 1 * k numpy array. The distance between object and \n",
    "\tthe k sensors. \n",
    "\t\"\"\"\n",
    "\tassert k, d == sensor_loc.shape \n",
    "\t \n",
    "\tdistance = scipy.spatial.distance.cdist(obj_loc, \n",
    "\t\t\t\t\t   sensor_loc, \n",
    "\t\t\t\t\t   metric='euclidean')\n",
    "\tdistance += np.random.randn(1, k)  \n",
    "\treturn obj_loc, distance\n",
    "\n",
    "def log_likelihood(obj_loc, sensor_loc, distance): \n",
    "\t\"\"\"\n",
    "\tThis function computes the log likelihood (as expressed in Part a).\n",
    "\tInput: \n",
    "\tobj_loc: shape [1,2]\n",
    "\tsensor_loc: shape [7,2]\n",
    "\tdistance: shape [7]\n",
    "\tOutput: \n",
    "\tThe log likelihood function value. \n",
    "\t\"\"\"  \n",
    "\tdiff_distance = np.sqrt(np.sum((sensor_loc - obj_loc)**2, axis = 1))- distance\n",
    "\tfunc_value = -sum((diff_distance)**2)/2\n",
    "\treturn func_value\n",
    "\n",
    "\n",
    "np.random.seed(100)\n",
    "# Sensor locations. \n",
    "sensor_loc = generate_sensors()\n",
    "num_gd_replicates = 100\n",
    "\n",
    "# Object locations. \n",
    "obj_locs = [[[i,i]] for i in np.arange(100,1000,100)]  "
   ]
  }
 ],
 "metadata": {
  "kernelspec": {
   "display_name": "Python 3",
   "language": "python",
   "name": "python3"
  },
  "language_info": {
   "codemirror_mode": {
    "name": "ipython",
    "version": 3
   },
   "file_extension": ".py",
   "mimetype": "text/x-python",
   "name": "python",
   "nbconvert_exporter": "python",
   "pygments_lexer": "ipython3",
   "version": "3.6.0"
  }
 },
 "nbformat": 4,
 "nbformat_minor": 2
}

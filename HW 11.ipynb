{
 "cells": [
  {
   "cell_type": "markdown",
   "metadata": {},
   "source": [
    "# 3. Nearest Neighbors"
   ]
  },
  {
   "cell_type": "code",
   "execution_count": 3,
   "metadata": {
    "collapsed": false
   },
   "outputs": [],
   "source": [
    "def _rmse_grid_search(training_features, training_labels, pipeline, parameters, technique):\n",
    "    \"\"\"\n",
    "    Input:\n",
    "        training_features: world_values responses on the training set\n",
    "        training_labels: HDI (human development index) on the training set\n",
    "        pipeline: regression model specific pipeline\n",
    "        parameters: regression model specific parameters\n",
    "        technique: regression model's name\n",
    "\n",
    "    Output:\n",
    "        Prints best RMSE and best estimator\n",
    "        Prints feature weights for Ridge and Lasso Regression\n",
    "        Plots RMSE vs k for k Nearest Neighbors Regression\n",
    "    \"\"\"\n",
    "    grid = GridSearchCV(estimator=pipeline,\n",
    "                        param_grid=parameters,\n",
    "                        scoring='neg_mean_squared_error')\n",
    "    grid.fit(training_features,\n",
    "             training_labels)\n",
    "    print(\"RMSE:\", sqrt(-grid.best_score_))\n",
    "    print(grid.best_estimator_)\n",
    "\n",
    "    # Check Ridge or Lasso Regression\n",
    "    if hasattr(grid.best_estimator_.named_steps[technique], 'coef_'):\n",
    "        print(grid.best_estimator_.named_steps[technique].coef_)\n",
    "    else:\n",
    "        # Plot RMSE vs k for k Nearest Neighbors Regression\n",
    "        plt.plot(grid.cv_results_['param_knn__n_neighbors'],\n",
    "                 (-grid.cv_results_['mean_test_score'])**0.5)\n",
    "        plt.xlabel('k')\n",
    "        plt.ylabel('RMSE')\n",
    "        plt.title('RMSE versus k in kNN')\n",
    "        plt.show()\n",
    "        \n",
    "        # find the k with the smallest RMSE\n",
    "        L=(-grid.cv_results_['mean_test_score'])**0.5\n",
    "        min_ind=min(range(len(L)), key=L.__getitem__)\n",
    "        print(\"The best value of K is \",min_ind, \"with a RMSE of \", min((-grid.cv_results_['mean_test_score'])**0.5))\n",
    "        print()\n",
    "\n",
    "    print()\n",
    "\n",
    "\n",
    "def regression_grid_searches(training_features, training_labels):\n",
    "    \"\"\"\n",
    "    Input:\n",
    "        training_features: world_values responses on the training set\n",
    "        training_labels: HDI (human development index) on the training set\n",
    "\n",
    "    Output:\n",
    "        Prints best RMSE, best estimator, feature weights for Ridge and Lasso Regression\n",
    "        Prints best RMSE, best estimator, and plots RMSE vs k for k Nearest Neighbors Regression\n",
    "    \"\"\"\n",
    "\n",
    "#     print(\"Ridge Regression\")\n",
    "#     _rmse_grid_search(training_features, training_labels,\n",
    "#                 ridge_regression_pipeline, regression_ridge_parameters, 'ridge')\n",
    "\n",
    "#     print(\"Lasso Regression\")\n",
    "#     _rmse_grid_search(training_features, training_labels,\n",
    "#                 lasso_regression_pipeline, regression_lasso_parameters, 'lasso')\n",
    "\n",
    "    print(\"k Nearest Neighbors Regression\")\n",
    "    _rmse_grid_search(training_features, training_labels,\n",
    "                k_nearest_neighbors_regression_pipeline,\n",
    "                regression_knn_parameters, 'knn')\n",
    "\n",
    "\n",
    "def _accuracy_grid_search(training_features, training_classes, pipeline, parameters):\n",
    "    \"\"\"\n",
    "    Input:\n",
    "        training_features: world_values responses on the training set\n",
    "        training_labels: HDI (human development index) on the training set\n",
    "        pipeline: classification model specific pipeline\n",
    "        parameters: classification model specific parameters\n",
    "\n",
    "    Output:\n",
    "        Prints best accuracy and best estimator of classification model\n",
    "    \"\"\"\n",
    "    grid = GridSearchCV(estimator=pipeline,\n",
    "                        param_grid=parameters,\n",
    "                        scoring='accuracy')\n",
    "    grid.fit(training_features, training_classes)\n",
    "    print(\"Accuracy:\", grid.best_score_)\n",
    "    print(grid.best_estimator_)\n",
    "    print()\n",
    "\n",
    "\n",
    "def classification_grid_searches(training_features, training_classes):\n",
    "    \"\"\"\n",
    "    Input:\n",
    "        training_features: world_values responses on the training set\n",
    "        training_labels: HDI (human development index) on the training set\n",
    "\n",
    "    Output:\n",
    "        Prints best accuracy and best estimator for SVM and k Nearest Neighbors Classification\n",
    "    \"\"\"\n",
    "#     print(\"SVM Classification\")\n",
    "#     _accuracy_grid_search(training_features, training_classes,\n",
    "#                         svm_classification_pipeline,\n",
    "#                         classification_svm_parameters)\n",
    "\n",
    "    print(\"k Nearest Neighbors Classification\")\n",
    "    _accuracy_grid_search(training_features, training_classes,\n",
    "                        k_nearest_neighbors_classification_pipeline,\n",
    "                        classification_knn_parameters)\n"
   ]
  },
  {
   "cell_type": "code",
   "execution_count": 4,
   "metadata": {
    "collapsed": false,
    "scrolled": false
   },
   "outputs": [
    {
     "name": "stdout",
     "output_type": "stream",
     "text": [
      "Predicting HDI from World Values Survey\n",
      "\n",
      "Importing Training and Testing Data\n",
      "Training Data Count: 148\n",
      "Test Data Count: 38\n",
      "\n",
      "Action taken on climate change 0.473312891543\n",
      "Better transport and roads -0.439633638622\n",
      "Support for people who can't work -0.336213236721\n",
      "Access to clean water and sanitation -0.018169084456\n",
      "Better healthcare -0.422012359959\n",
      "A good education -0.303978889772\n",
      "A responsive government we can trust 0.329445314984\n",
      "Phone and internet access -0.351604712158\n",
      "Reliable energy at home -0.285423563836\n",
      "Affordable and nutritious food 0.195193300786\n",
      "Protecting forests rivers and oceans 0.613458756271\n",
      "Protection against crime and violence 0.14331869918\n",
      "Political freedoms 0.238099006821\n",
      "Freedom from discrimination and persecution 0.432932375445\n",
      "Equality between men and women 0.276496043498\n",
      "Better job opportunities -0.39734452674\n",
      "\n",
      "Most positively correlcated with HDI: 0.6135 Protecting forests rivers and oceans\n",
      "Most negatively correlcated with HDI: -0.4396 Better transport and roads\n",
      "Least correlcated with HDI: 0.0182 Access to clean water and sanitation\n"
     ]
    },
    {
     "data": {
      "image/png": "[encoded data removed]",
      "text/plain": [
       "<matplotlib.figure.Figure at 0x2879389cfd0>"
      ]
     },
     "metadata": {},
     "output_type": "display_data"
    },
    {
     "data": {
      "image/png": "[encoded data removed]",
      "text/plain": [
       "<matplotlib.figure.Figure at 0x287959a2940>"
      ]
     },
     "metadata": {},
     "output_type": "display_data"
    },
    {
     "data": {
      "image/png": "[encoded data removed]",
      "text/plain": [
       "<matplotlib.figure.Figure at 0x28795a3a438>"
      ]
     },
     "metadata": {},
     "output_type": "display_data"
    },
    {
     "name": "stdout",
     "output_type": "stream",
     "text": [
      "Part C: The positively correlated feature plot looks like a random variable drawn from a multivariate gaussian with positive covariance terms. The negatively correlated feature plot looks like a random variable drawn from a multivariate gaussian with negative covariance terms. And the least correlated feature plot looks like a random variable drawn from a multivariate gaussian with zero in the covariance terms.\n",
      "\n",
      "Part D:\n"
     ]
    },
    {
     "data": {
      "image/png": "[encoded data removed]",
      "text/plain": [
       "<matplotlib.figure.Figure at 0x287959360f0>"
      ]
     },
     "metadata": {},
     "output_type": "display_data"
    },
    {
     "name": "stdout",
     "output_type": "stream",
     "text": [
      "Ridge Regression\n",
      "RMSE: 0.1228851878458612\n",
      "Pipeline(steps=[('ridge', Ridge(alpha=0.015399999999999968, copy_X=True, fit_intercept=True,\n",
      "   max_iter=None, normalize=False, random_state=None, solver='auto',\n",
      "   tol=0.001))])\n",
      "[[ 0.82390399 -0.73313065 -0.13030642 -1.41827712 -0.68896499 -0.88008295\n",
      "   0.77086215 -0.98801489 -0.93020749  0.4555187   2.22074781 -0.14690259\n",
      "   0.52339837  0.75672096  0.43495406 -0.07021889]]\n",
      "\n",
      "Lasso Regression\n",
      "RMSE: 0.1259803419253279\n",
      "Pipeline(steps=[('lasso', Lasso(alpha=0.00018099999999999979, copy_X=True, fit_intercept=True,\n",
      "   max_iter=1000, normalize=False, positive=False, precompute=False,\n",
      "   random_state=None, selection='cyclic', tol=0.0001, warm_start=False))])\n",
      "[ 0.24112319 -0.73414237 -0.         -0.98296441 -0.67486502 -0.09330813\n",
      "  0.3684455  -0.40891727 -0.          0.          3.43601188  0.          0.\n",
      "  0.89253437  0.35524641 -0.        ]\n",
      "\n",
      "\n",
      "Part E\n",
      "RIDGE: By testing over a smaller range but with a smaller step size, the hyperparamter for ridge was found to be .01539 and that reduced the RMSE to 0.1228\n",
      "\n",
      "Part F\n",
      "LASSO: By testing over a smaller range but with a smaller step size, the hyperparamter for lasso was found to be 0.0001809 and that reduced the RMSE to 0.12598\n",
      "\n",
      "Part G\n",
      "The LASSO technique resulted in 6 feature weights to be zero whereas RIDGE had 0 feature weights at zero\n",
      "\n"
     ]
    }
   ],
   "source": [
    "\"\"\"\n",
    "The world_values data set is available online at http://54.227.246.164/dataset/. In the data,\n",
    "    residents of almost all countries were asked to rank their top 6 'priorities'. Specifically,\n",
    "    they were asked \"Which of these are most important for you and your family?\"\n",
    "\n",
    "This code and world-values.tex guides the student through the process of training several models\n",
    "    to predict the HDI (Human Development Index) rating of a country from the responses of its\n",
    "    citizens to the world values data. The new model they will try is k Nearest Neighbors (kNN).\n",
    "    The students should also try to understand *why* the kNN works well.\n",
    "\"\"\"\n",
    "\n",
    "from math import sqrt\n",
    "import matplotlib.pyplot as plt\n",
    "\n",
    "from sklearn.preprocessing import StandardScaler\n",
    "from sklearn.model_selection import GridSearchCV\n",
    "\n",
    "from world_values_utils import import_world_values_data\n",
    "from world_values_utils import hdi_classification\n",
    "from world_values_utils import calculate_correlations\n",
    "from world_values_utils import plot_pca\n",
    "\n",
    "from world_values_pipelines import ridge_regression_pipeline\n",
    "from world_values_pipelines import lasso_regression_pipeline\n",
    "from world_values_pipelines import k_nearest_neighbors_regression_pipeline\n",
    "from world_values_pipelines import svm_classification_pipeline\n",
    "from world_values_pipelines import k_nearest_neighbors_classification_pipeline\n",
    "\n",
    "from world_values_parameters import regression_ridge_parameters\n",
    "from world_values_parameters import regression_lasso_parameters\n",
    "from world_values_parameters import regression_knn_parameters\n",
    "from world_values_parameters import classification_svm_parameters\n",
    "from world_values_parameters import classification_knn_parameters\n",
    "\n",
    "\n",
    "def main():\n",
    "    print(\"Predicting HDI from World Values Survey\")\n",
    "    print()\n",
    "\n",
    "    # Import Data #\n",
    "    print(\"Importing Training and Testing Data\")\n",
    "    values_train, hdi_train, values_test = import_world_values_data()\n",
    "\n",
    "    # Center the HDI Values #\n",
    "    hdi_scaler = StandardScaler(with_std=False)\n",
    "    hdi_shifted_train = hdi_scaler.fit_transform(hdi_train)\n",
    "\n",
    "    # Classification Data #\n",
    "    hdi_class_train = hdi_train['2015'].apply(hdi_classification)\n",
    "\n",
    "    # Data Information #\n",
    "    print('Training Data Count:', values_train.shape[0])\n",
    "    print('Test Data Count:', values_test.shape[0])\n",
    "    print()\n",
    "\n",
    "    # Calculate Correlations #\n",
    "    calculate_correlations(values_train, hdi_train)\n",
    "    \n",
    "    print(\"Part C: The positively correlated feature plot looks like a random variable drawn from a multivariate gaussian with positive covariance terms. The negatively correlated feature plot looks like a random variable drawn from a multivariate gaussian with negative covariance terms. And the least correlated feature plot looks like a random variable drawn from a multivariate gaussian with zero in the covariance terms.\")\n",
    "    \n",
    "\n",
    "    # PCA #\n",
    "    print()\n",
    "    print(\"Part D:\")\n",
    "    plot_pca(values_train, hdi_train, hdi_class_train)\n",
    "\n",
    "    # Regression Grid Searches #\n",
    "\n",
    "    \n",
    "    regression_grid_searches(training_features=values_train,\n",
    "                             training_labels=hdi_shifted_train)\n",
    "    print()\n",
    "    print(\"Part E\")\n",
    "    print(\"RIDGE: By testing over a smaller range but with a smaller step size, the hyperparamter for ridge was found to be .01539 and that reduced the RMSE to 0.1228\")\n",
    "    print()\n",
    "    print(\"Part F\")\n",
    "    print(\"LASSO: By testing over a smaller range but with a smaller step size, the hyperparamter for lasso was found to be 0.0001809 and that reduced the RMSE to 0.12598\")\n",
    "    print()\n",
    "    print(\"Part G\")\n",
    "    print(\"The LASSO technique resulted in 6 feature weights to be zero whereas RIDGE had 0 feature weights at zero\")\n",
    "    print()\n",
    "    \n",
    "\n",
    "    # Classification Grid Searches #\n",
    "    # classification_grid_searches(training_features=values_train,\n",
    "    #                              training_classes=hdi_class_train)\n",
    "\n",
    "\n",
    "\n",
    "if __name__ == '__main__':\n",
    "    main()\n"
   ]
  },
  {
   "cell_type": "markdown",
   "metadata": {},
   "source": [
    "Part H:\n",
    "\n",
    "To adapt the K nearest neighbors algorithm for continuous outputs, you could take the mean of the k nearest neighbors as the output.  It's the continuous equivalent of majority voting."
   ]
  },
  {
   "cell_type": "code",
   "execution_count": 6,
   "metadata": {
    "collapsed": false
   },
   "outputs": [
    {
     "name": "stdout",
     "output_type": "stream",
     "text": [
      "k Nearest Neighbors Regression\n",
      "RMSE: 0.1182458946077689\n",
      "Pipeline(steps=[('knn', KNeighborsRegressor(algorithm='auto', leaf_size=30, metric='minkowski',\n",
      "          metric_params=None, n_jobs=1, n_neighbors=12, p=2,\n",
      "          weights='uniform'))])\n"
     ]
    },
    {
     "data": {
      "image/png": "[encoded data removed]",
      "text/plain": [
       "<matplotlib.figure.Figure at 0x287958e4080>"
      ]
     },
     "metadata": {},
     "output_type": "display_data"
    },
    {
     "name": "stdout",
     "output_type": "stream",
     "text": [
      "Part J:\n",
      "The best value of K is  11 with a RMSE of  0.118245894608\n",
      "\n",
      "\n"
     ]
    }
   ],
   "source": [
    "from math import sqrt\n",
    "import matplotlib.pyplot as plt\n",
    "\n",
    "from sklearn.preprocessing import StandardScaler\n",
    "from sklearn.model_selection import GridSearchCV\n",
    "\n",
    "from world_values_utils import import_world_values_data\n",
    "from world_values_utils import hdi_classification\n",
    "from world_values_utils import calculate_correlations\n",
    "from world_values_utils import plot_pca\n",
    "\n",
    "from world_values_pipelines import ridge_regression_pipeline\n",
    "from world_values_pipelines import lasso_regression_pipeline\n",
    "from world_values_pipelines import k_nearest_neighbors_regression_pipeline\n",
    "from world_values_pipelines import svm_classification_pipeline\n",
    "from world_values_pipelines import k_nearest_neighbors_classification_pipeline\n",
    "\n",
    "from world_values_parameters import regression_ridge_parameters\n",
    "from world_values_parameters import regression_lasso_parameters\n",
    "from world_values_parameters import regression_knn_parameters\n",
    "from world_values_parameters import classification_svm_parameters\n",
    "from world_values_parameters import classification_knn_parameters\n",
    "\n",
    "\n",
    "def main():\n",
    "\n",
    "    # Import Data #\n",
    "    values_train, hdi_train, values_test = import_world_values_data()\n",
    "\n",
    "    # Center the HDI Values #\n",
    "    hdi_scaler = StandardScaler(with_std=False)\n",
    "    hdi_shifted_train = hdi_scaler.fit_transform(hdi_train)\n",
    "\n",
    "    # Classification Data #\n",
    "    hdi_class_train = hdi_train['2015'].apply(hdi_classification)\n",
    "\n",
    "\n",
    "\n",
    "    # Regression Grid Searches #\n",
    "\n",
    "    \n",
    "    regression_grid_searches(training_features=values_train,\n",
    "                             training_labels=hdi_shifted_train)\n",
    "    \n",
    "\n",
    "    # Classification Grid Searches #\n",
    "    # classification_grid_searches(training_features=values_train,\n",
    "    #                              training_classes=hdi_class_train)\n",
    "\n",
    "\n",
    "\n",
    "if __name__ == '__main__':\n",
    "    main()"
   ]
  },
  {
   "cell_type": "markdown",
   "metadata": {},
   "source": [
    "Part I: the 7 nearest neighbors of the USA are"
   ]
  },
  {
   "cell_type": "code",
   "execution_count": 6,
   "metadata": {
    "collapsed": false
   },
   "outputs": [
    {
     "name": "stdout",
     "output_type": "stream",
     "text": [
      "United States\n",
      "Ireland\n",
      "United Kingdom\n",
      "Belgium\n",
      "Finland\n",
      "Malta\n",
      "Austria\n",
      "France\n"
     ]
    }
   ],
   "source": [
    "import pandas as pd\n",
    "from sklearn.neighbors import NearestNeighbors\n",
    "\n",
    "values_train = pd.read_csv('world-values-train2.csv')\n",
    "Country = values_train['Country']\n",
    "values_train_edit = values_train.drop(['Country'], axis=1)\n",
    "\n",
    "model = NearestNeighbors(n_neighbors=8)\n",
    "model.fit(values_train_edit) \n",
    "prediction = model.kneighbors([values_train_edit.T[45]])\n",
    "country_num = prediction[1][0]\n",
    "\n",
    "for i in country_num:\n",
    "    print(Country[i])"
   ]
  },
  {
   "cell_type": "markdown",
   "metadata": {},
   "source": [
    "Part K: \n",
    "The plot in part J in terms of bias and variance.  Since we're looking at testing error, the plot reflects both bias and variance.  As K goes up, we have more bias because we are adding training points.  But, as K increases, the variance decreases.  So from the plot, it appears that the variance is driving the initial drop in error and bias drives the ending increase in error."
   ]
  },
  {
   "cell_type": "markdown",
   "metadata": {},
   "source": [
    "Part L: distance weighting"
   ]
  },
  {
   "cell_type": "code",
   "execution_count": 2,
   "metadata": {
    "collapsed": false
   },
   "outputs": [
    {
     "name": "stdout",
     "output_type": "stream",
     "text": [
      "k Nearest Neighbors Regression\n",
      "RMSE: 0.1171925270311745\n",
      "Pipeline(steps=[('knn', KNeighborsRegressor(algorithm='auto', leaf_size=30, metric='minkowski',\n",
      "          metric_params=None, n_jobs=1, n_neighbors=14, p=2,\n",
      "          weights='distance'))])\n"
     ]
    },
    {
     "data": {
      "image/png": "[encoded data removed]",
      "text/plain": [
       "<matplotlib.figure.Figure at 0x24301506cf8>"
      ]
     },
     "metadata": {},
     "output_type": "display_data"
    },
    {
     "name": "stdout",
     "output_type": "stream",
     "text": [
      "The best value of K is  13 with a RMSE of  0.117192527031\n",
      "\n",
      "\n"
     ]
    }
   ],
   "source": [
    "from math import sqrt\n",
    "import matplotlib.pyplot as plt\n",
    "\n",
    "from sklearn.preprocessing import StandardScaler\n",
    "from sklearn.model_selection import GridSearchCV\n",
    "\n",
    "from world_values_utils import import_world_values_data\n",
    "from world_values_utils import hdi_classification\n",
    "from world_values_utils import calculate_correlations\n",
    "from world_values_utils import plot_pca\n",
    "\n",
    "from world_values_pipelines import ridge_regression_pipeline\n",
    "from world_values_pipelines import lasso_regression_pipeline\n",
    "from world_values_pipelines import k_nearest_neighbors_regression_pipeline\n",
    "from world_values_pipelines import svm_classification_pipeline\n",
    "from world_values_pipelines import k_nearest_neighbors_classification_pipeline\n",
    "\n",
    "from world_values_parameters import regression_ridge_parameters\n",
    "from world_values_parameters import regression_lasso_parameters\n",
    "from world_values_parameters import regression_knn_parameters\n",
    "from world_values_parameters import classification_svm_parameters\n",
    "from world_values_parameters import classification_knn_parameters\n",
    "\n",
    "\n",
    "def main():\n",
    "\n",
    "    # Import Data #\n",
    "    values_train, hdi_train, values_test = import_world_values_data()\n",
    "\n",
    "    # Center the HDI Values #\n",
    "    hdi_scaler = StandardScaler(with_std=False)\n",
    "    hdi_shifted_train = hdi_scaler.fit_transform(hdi_train)\n",
    "\n",
    "    # Classification Data #\n",
    "    hdi_class_train = hdi_train['2015'].apply(hdi_classification)\n",
    "\n",
    "\n",
    "\n",
    "    # Regression Grid Searches #\n",
    "\n",
    "    \n",
    "    regression_grid_searches(training_features=values_train,\n",
    "                             training_labels=hdi_shifted_train)\n",
    "    \n",
    "\n",
    "    # Classification Grid Searches #\n",
    "    # classification_grid_searches(training_features=values_train,\n",
    "    #                              training_classes=hdi_class_train)\n",
    "\n",
    "\n",
    "\n",
    "if __name__ == '__main__':\n",
    "    main()"
   ]
  },
  {
   "cell_type": "markdown",
   "metadata": {},
   "source": [
    "Part N:"
   ]
  },
  {
   "cell_type": "code",
   "execution_count": 17,
   "metadata": {
    "collapsed": false
   },
   "outputs": [
    {
     "name": "stdout",
     "output_type": "stream",
     "text": [
      "k Nearest Neighbors Regression\n",
      "RMSE: 0.7515571300426367\n",
      "Pipeline(steps=[('knn', KNeighborsRegressor(algorithm='auto', leaf_size=30, metric='minkowski',\n",
      "          metric_params=None, n_jobs=1, n_neighbors=14, p=2,\n",
      "          weights='distance'))])\n"
     ]
    },
    {
     "data": {
      "image/png": "[encoded data removed]",
      "text/plain": [
       "<matplotlib.figure.Figure at 0x226a6857588>"
      ]
     },
     "metadata": {},
     "output_type": "display_data"
    },
    {
     "name": "stdout",
     "output_type": "stream",
     "text": [
      "The best value of K is  13 with a RMSE of  0.751557130043\n",
      "\n",
      "\n"
     ]
    }
   ],
   "source": [
    "# we now need to scale the feature columns so that they all have unit variance\n",
    "# divide each column by the norm of it \n",
    "from math import sqrt\n",
    "import matplotlib.pyplot as plt\n",
    "import numpy as np\n",
    "import pandas as pd\n",
    "\n",
    "from sklearn.preprocessing import StandardScaler\n",
    "from sklearn.model_selection import GridSearchCV\n",
    "\n",
    "from world_values_utils import import_world_values_data\n",
    "from world_values_utils import hdi_classification\n",
    "from world_values_utils import calculate_correlations\n",
    "from world_values_utils import plot_pca\n",
    "\n",
    "from world_values_pipelines import ridge_regression_pipeline\n",
    "from world_values_pipelines import lasso_regression_pipeline\n",
    "from world_values_pipelines import k_nearest_neighbors_regression_pipeline\n",
    "from world_values_pipelines import svm_classification_pipeline\n",
    "from world_values_pipelines import k_nearest_neighbors_classification_pipeline\n",
    "\n",
    "from world_values_parameters import regression_ridge_parameters\n",
    "from world_values_parameters import regression_lasso_parameters\n",
    "from world_values_parameters import regression_knn_parameters\n",
    "from world_values_parameters import classification_svm_parameters\n",
    "from world_values_parameters import classification_knn_parameters\n",
    "\n",
    "\n",
    "def main():\n",
    "\n",
    "    # Import Data #\n",
    "    values_train, hdi_train, values_test = import_world_values_data()\n",
    "    \n",
    "\n",
    "    # Center the HDI Values #\n",
    "    hdi_scaler = StandardScaler(with_std=True)\n",
    "    hdi_shifted_train = hdi_scaler.fit_transform(hdi_train)\n",
    "\n",
    "    # Classification Data #\n",
    "    hdi_class_train = hdi_train['2015'].apply(hdi_classification)\n",
    "\n",
    "\n",
    "\n",
    "    # Regression Grid Searches #\n",
    "\n",
    "    \n",
    "    regression_grid_searches(training_features=values_train,\n",
    "                             training_labels=hdi_shifted_train)\n",
    "    \n",
    "\n",
    "    # Classification Grid Searches #\n",
    "    # classification_grid_searches(training_features=values_train,\n",
    "    #                              training_classes=hdi_class_train)\n",
    "\n",
    "\n",
    "\n",
    "if __name__ == '__main__':\n",
    "    main()"
   ]
  },
  {
   "cell_type": "markdown",
   "metadata": {},
   "source": [
    "Part M: the 7 nearest neighbors of the USA after scaling are"
   ]
  },
  {
   "cell_type": "code",
   "execution_count": 18,
   "metadata": {
    "collapsed": false
   },
   "outputs": [
    {
     "name": "stdout",
     "output_type": "stream",
     "text": [
      "United States\n",
      "Ireland\n",
      "United Kingdom\n",
      "Belgium\n",
      "Finland\n",
      "Malta\n",
      "Austria\n",
      "France\n"
     ]
    }
   ],
   "source": [
    "import pandas as pd\n",
    "from sklearn.neighbors import NearestNeighbors\n",
    "\n",
    "values_train = pd.read_csv('world-values-train2.csv')\n",
    "Country = values_train['Country']\n",
    "values_train_edit = values_train.drop(['Country'], axis=1)\n",
    "\n",
    "model = NearestNeighbors(n_neighbors=8)\n",
    "model.fit(values_train_edit) \n",
    "prediction = model.kneighbors([values_train_edit.T[45]])\n",
    "country_num = prediction[1][0]\n",
    "\n",
    "for i in country_num:\n",
    "    print(Country[i])"
   ]
  },
  {
   "cell_type": "markdown",
   "metadata": {},
   "source": [
    "Part P: \n",
    "So far, my best method in terms of minimizing RMSE is to use ridge regression with a parameter value of alpha=0.015399999999999968"
   ]
  },
  {
   "cell_type": "code",
   "execution_count": 14,
   "metadata": {
    "collapsed": false
   },
   "outputs": [],
   "source": [
    "from sklearn.linear_model import Ridge\n",
    "import numpy as np\n",
    "values_train, hdi_train, values_test = import_world_values_data()\n",
    "clf = Ridge(alpha=0.015399999999999968)\n",
    "clf.fit(values_train,hdi_train) \n",
    "predict=clf.predict(values_test)\n",
    "\n",
    "with open('submission.txt','w') as f:\n",
    "    for i in range(len(predict)):\n",
    "        f.write(str(np.round(predict[i],4)[0].item()))\n",
    "        f.write(\"\\n\")"
   ]
  },
  {
   "cell_type": "markdown",
   "metadata": {},
   "source": [
    "Part Q: In any classification problem with K classes, the accuracy we are guaranteed to get with the best naive classifier is 1/k."
   ]
  },
  {
   "cell_type": "markdown",
   "metadata": {},
   "source": [
    "Part R:"
   ]
  },
  {
   "cell_type": "code",
   "execution_count": 19,
   "metadata": {
    "collapsed": false
   },
   "outputs": [
    {
     "data": {
      "image/png": "[encoded data removed]",
      "text/plain": [
       "<matplotlib.figure.Figure at 0x226a7148f28>"
      ]
     },
     "metadata": {},
     "output_type": "display_data"
    }
   ],
   "source": [
    "from math import sqrt\n",
    "import matplotlib.pyplot as plt\n",
    "import numpy as np\n",
    "\n",
    "from sklearn.preprocessing import StandardScaler\n",
    "from sklearn.model_selection import GridSearchCV\n",
    "\n",
    "from world_values_utils import import_world_values_data\n",
    "from world_values_utils import hdi_classification\n",
    "from world_values_utils import calculate_correlations\n",
    "from world_values_utils import plot_pca\n",
    "\n",
    "from world_values_pipelines import ridge_regression_pipeline\n",
    "from world_values_pipelines import lasso_regression_pipeline\n",
    "from world_values_pipelines import k_nearest_neighbors_regression_pipeline\n",
    "from world_values_pipelines import svm_classification_pipeline\n",
    "from world_values_pipelines import k_nearest_neighbors_classification_pipeline\n",
    "\n",
    "from world_values_parameters import regression_ridge_parameters\n",
    "from world_values_parameters import regression_lasso_parameters\n",
    "from world_values_parameters import regression_knn_parameters\n",
    "from world_values_parameters import classification_svm_parameters\n",
    "from world_values_parameters import classification_knn_parameters\n",
    "\n",
    "\n",
    "def main():\n",
    "    # Import Data #\n",
    "    values_train, hdi_train, values_test = import_world_values_data()\n",
    "\n",
    "    # Center the HDI Values #\n",
    "    hdi_scaler = StandardScaler(with_std=False)\n",
    "    hdi_shifted_train = hdi_scaler.fit_transform(hdi_train)\n",
    "\n",
    "    # Classification Data #\n",
    "    hdi_class_train = hdi_train['2015'].apply(hdi_classification)\n",
    "#     print(hdi_class_train)\n",
    "\n",
    "    # PCA #\n",
    "    plot_pca(values_train, hdi_train, hdi_class_train)\n",
    "\n",
    "\n",
    "if __name__ == '__main__':\n",
    "    main()"
   ]
  },
  {
   "cell_type": "markdown",
   "metadata": {},
   "source": [
    "Part S: \n",
    "A linear SVM would not do well in classification because the two sets are not obviously linearly separable."
   ]
  },
  {
   "cell_type": "markdown",
   "metadata": {},
   "source": [
    "Part T: SVM Classifier with linear kernel\n",
    "\n",
    "The accuracy is 75%"
   ]
  },
  {
   "cell_type": "code",
   "execution_count": 23,
   "metadata": {
    "collapsed": false
   },
   "outputs": [
    {
     "name": "stdout",
     "output_type": "stream",
     "text": [
      "SVM Classification\n",
      "Accuracy: 0.75\n",
      "Pipeline(steps=[('svm', SVC(C=48.0, cache_size=200, class_weight=None, coef0=0.0,\n",
      "  decision_function_shape=None, degree=3, gamma='auto', kernel='linear',\n",
      "  max_iter=-1, probability=False, random_state=None, shrinking=True,\n",
      "  tol=0.001, verbose=False))])\n",
      "\n"
     ]
    }
   ],
   "source": [
    "from math import sqrt\n",
    "import matplotlib.pyplot as plt\n",
    "\n",
    "from sklearn.preprocessing import StandardScaler\n",
    "from sklearn.model_selection import GridSearchCV\n",
    "\n",
    "from world_values_utils import import_world_values_data\n",
    "from world_values_utils import hdi_classification\n",
    "from world_values_utils import calculate_correlations\n",
    "from world_values_utils import plot_pca\n",
    "\n",
    "from world_values_pipelines import ridge_regression_pipeline\n",
    "from world_values_pipelines import lasso_regression_pipeline\n",
    "from world_values_pipelines import k_nearest_neighbors_regression_pipeline\n",
    "from world_values_pipelines import svm_classification_pipeline\n",
    "from world_values_pipelines import k_nearest_neighbors_classification_pipeline\n",
    "\n",
    "from world_values_parameters import regression_ridge_parameters\n",
    "from world_values_parameters import regression_lasso_parameters\n",
    "from world_values_parameters import regression_knn_parameters\n",
    "from world_values_parameters import classification_svm_parameters\n",
    "from world_values_parameters import classification_knn_parameters\n",
    "\n",
    "\n",
    "def main():\n",
    "    # Import Data #\n",
    "    values_train, hdi_train, values_test = import_world_values_data()\n",
    "\n",
    "    # Center the HDI Values #\n",
    "    hdi_scaler = StandardScaler(with_std=False)\n",
    "    hdi_shifted_train = hdi_scaler.fit_transform(hdi_train)\n",
    "\n",
    "    # Classification Data #\n",
    "    hdi_class_train = hdi_train['2015'].apply(hdi_classification)    \n",
    "\n",
    "    # Classification Grid Searches #\n",
    "    classification_grid_searches(training_features=values_train,\n",
    "                                 training_classes=hdi_class_train)\n",
    "\n",
    "\n",
    "if __name__ == '__main__':\n",
    "    main()\n"
   ]
  },
  {
   "cell_type": "markdown",
   "metadata": {},
   "source": [
    "Part U: Add a PCA and Scaling to SVM"
   ]
  },
  {
   "cell_type": "code",
   "execution_count": 2,
   "metadata": {
    "collapsed": false,
    "scrolled": false
   },
   "outputs": [
    {
     "name": "stdout",
     "output_type": "stream",
     "text": [
      "SVM Classification\n",
      "Accuracy: 0.547297297297\n",
      "Pipeline(steps=[('svm', SVC(C=0.01, cache_size=200, class_weight=None, coef0=0.0,\n",
      "  decision_function_shape=None, degree=3, gamma='auto', kernel='linear',\n",
      "  max_iter=-1, probability=False, random_state=None, shrinking=True,\n",
      "  tol=0.001, verbose=False))])\n",
      "\n"
     ]
    }
   ],
   "source": [
    "from math import sqrt\n",
    "import matplotlib.pyplot as plt\n",
    "\n",
    "from sklearn.preprocessing import StandardScaler\n",
    "from sklearn.model_selection import GridSearchCV\n",
    "from sklearn.decomposition import PCA\n",
    "\n",
    "from world_values_utils import import_world_values_data\n",
    "from world_values_utils import hdi_classification\n",
    "from world_values_utils import calculate_correlations\n",
    "from world_values_utils import plot_pca\n",
    "\n",
    "from world_values_pipelines import ridge_regression_pipeline\n",
    "from world_values_pipelines import lasso_regression_pipeline\n",
    "from world_values_pipelines import k_nearest_neighbors_regression_pipeline\n",
    "from world_values_pipelines import svm_classification_pipeline\n",
    "from world_values_pipelines import k_nearest_neighbors_classification_pipeline\n",
    "\n",
    "from world_values_parameters import regression_ridge_parameters\n",
    "from world_values_parameters import regression_lasso_parameters\n",
    "from world_values_parameters import regression_knn_parameters\n",
    "from world_values_parameters import classification_svm_parameters\n",
    "from world_values_parameters import classification_knn_parameters\n",
    "\n",
    "\n",
    "def main():\n",
    "    # Import Data #\n",
    "    values_train, hdi_train, values_test = import_world_values_data()\n",
    "\n",
    "    # Center the HDI Values #\n",
    "    hdi_scaler = StandardScaler(with_std=True)\n",
    "    hdi_shifted_train = hdi_scaler.fit_transform(hdi_train)\n",
    "\n",
    "    # Classification Data #\n",
    "    hdi_class_train = hdi_train['2015'].apply(hdi_classification) \n",
    "    \n",
    "    pca = PCA()\n",
    "    transformed_features = pca.fit_transform(values_train)\n",
    "    \n",
    "    # Apply PCA to SVM Classification\n",
    "         #('pca', PCA()),\n",
    "\n",
    "            # Apply scaling to SVM Classification\n",
    "         #('scale', StandardScaler()),\n",
    "\n",
    "    # Classification Grid Searches #\n",
    "    classification_grid_searches(training_features=transformed_features,\n",
    "                                 training_classes=hdi_class_train)\n",
    "\n",
    "if __name__ == '__main__':\n",
    "    main()\n"
   ]
  },
  {
   "cell_type": "markdown",
   "metadata": {},
   "source": [
    "Part V: RBF Kernel"
   ]
  },
  {
   "cell_type": "code",
   "execution_count": 2,
   "metadata": {
    "collapsed": false
   },
   "outputs": [
    {
     "name": "stdout",
     "output_type": "stream",
     "text": [
      "SVM Classification\n",
      "Accuracy: 0.689189189189\n",
      "Pipeline(steps=[('svm', SVC(C=98.0, cache_size=200, class_weight=None, coef0=0.0,\n",
      "  decision_function_shape=None, degree=3, gamma='auto', kernel='rbf',\n",
      "  max_iter=-1, probability=False, random_state=None, shrinking=True,\n",
      "  tol=0.001, verbose=False))])\n",
      "\n"
     ]
    }
   ],
   "source": [
    "from math import sqrt\n",
    "import matplotlib.pyplot as plt\n",
    "\n",
    "from sklearn.preprocessing import StandardScaler\n",
    "from sklearn.model_selection import GridSearchCV\n",
    "\n",
    "from world_values_utils import import_world_values_data\n",
    "from world_values_utils import hdi_classification\n",
    "from world_values_utils import calculate_correlations\n",
    "from world_values_utils import plot_pca\n",
    "\n",
    "from world_values_pipelines import ridge_regression_pipeline\n",
    "from world_values_pipelines import lasso_regression_pipeline\n",
    "from world_values_pipelines import k_nearest_neighbors_regression_pipeline\n",
    "from world_values_pipelines import svm_classification_pipeline\n",
    "from world_values_pipelines import k_nearest_neighbors_classification_pipeline\n",
    "\n",
    "from world_values_parameters import regression_ridge_parameters\n",
    "from world_values_parameters import regression_lasso_parameters\n",
    "from world_values_parameters import regression_knn_parameters\n",
    "from world_values_parameters import classification_svm_parameters\n",
    "from world_values_parameters import classification_knn_parameters\n",
    "\n",
    "\n",
    "def main():\n",
    "    # Import Data #\n",
    "    values_train, hdi_train, values_test = import_world_values_data()\n",
    "\n",
    "    # Center the HDI Values #\n",
    "    hdi_scaler = StandardScaler(with_std=False)\n",
    "    hdi_shifted_train = hdi_scaler.fit_transform(hdi_train)\n",
    "\n",
    "    # Classification Data #\n",
    "    hdi_class_train = hdi_train['2015'].apply(hdi_classification)    \n",
    "\n",
    "    # Classification Grid Searches #\n",
    "    classification_grid_searches(training_features=values_train,\n",
    "                                 training_classes=hdi_class_train)\n",
    "\n",
    "\n",
    "if __name__ == '__main__':\n",
    "    main()\n"
   ]
  },
  {
   "cell_type": "markdown",
   "metadata": {},
   "source": [
    "Part W: KNN for classification without scaling"
   ]
  },
  {
   "cell_type": "code",
   "execution_count": 4,
   "metadata": {
    "collapsed": false
   },
   "outputs": [
    {
     "name": "stdout",
     "output_type": "stream",
     "text": [
      "k Nearest Neighbors Classification\n",
      "Accuracy: 0.763513513514\n",
      "Pipeline(steps=[('knn', KNeighborsClassifier(algorithm='auto', leaf_size=30, metric='minkowski',\n",
      "           metric_params=None, n_jobs=1, n_neighbors=4, p=2,\n",
      "           weights='distance'))])\n",
      "\n"
     ]
    }
   ],
   "source": [
    "from math import sqrt\n",
    "import matplotlib.pyplot as plt\n",
    "\n",
    "from sklearn.preprocessing import StandardScaler\n",
    "from sklearn.model_selection import GridSearchCV\n",
    "\n",
    "from world_values_utils import import_world_values_data\n",
    "from world_values_utils import hdi_classification\n",
    "from world_values_utils import calculate_correlations\n",
    "from world_values_utils import plot_pca\n",
    "\n",
    "from world_values_pipelines import ridge_regression_pipeline\n",
    "from world_values_pipelines import lasso_regression_pipeline\n",
    "from world_values_pipelines import k_nearest_neighbors_regression_pipeline\n",
    "from world_values_pipelines import svm_classification_pipeline\n",
    "from world_values_pipelines import k_nearest_neighbors_classification_pipeline\n",
    "\n",
    "from world_values_parameters import regression_ridge_parameters\n",
    "from world_values_parameters import regression_lasso_parameters\n",
    "from world_values_parameters import regression_knn_parameters\n",
    "from world_values_parameters import classification_svm_parameters\n",
    "from world_values_parameters import classification_knn_parameters\n",
    "\n",
    "\n",
    "def main():\n",
    "    # Import Data #\n",
    "    values_train, hdi_train, values_test = import_world_values_data()\n",
    "\n",
    "    # Center the HDI Values #\n",
    "    hdi_scaler = StandardScaler(with_std=False)\n",
    "    hdi_shifted_train = hdi_scaler.fit_transform(hdi_train)\n",
    "\n",
    "    # Classification Data #\n",
    "    hdi_class_train = hdi_train['2015'].apply(hdi_classification)    \n",
    "\n",
    "    # Classification Grid Searches #\n",
    "    classification_grid_searches(training_features=values_train,\n",
    "                                 training_classes=hdi_class_train)\n",
    "\n",
    "\n",
    "if __name__ == '__main__':\n",
    "    main()"
   ]
  },
  {
   "cell_type": "markdown",
   "metadata": {},
   "source": [
    "KNN for classification with scaling - scaling does not affect K nearest neighbors"
   ]
  },
  {
   "cell_type": "code",
   "execution_count": 5,
   "metadata": {
    "collapsed": false
   },
   "outputs": [
    {
     "name": "stdout",
     "output_type": "stream",
     "text": [
      "k Nearest Neighbors Classification\n",
      "Accuracy: 0.763513513514\n",
      "Pipeline(steps=[('knn', KNeighborsClassifier(algorithm='auto', leaf_size=30, metric='minkowski',\n",
      "           metric_params=None, n_jobs=1, n_neighbors=4, p=2,\n",
      "           weights='distance'))])\n",
      "\n"
     ]
    }
   ],
   "source": [
    "from math import sqrt\n",
    "import matplotlib.pyplot as plt\n",
    "\n",
    "from sklearn.preprocessing import StandardScaler\n",
    "from sklearn.model_selection import GridSearchCV\n",
    "\n",
    "from world_values_utils import import_world_values_data\n",
    "from world_values_utils import hdi_classification\n",
    "from world_values_utils import calculate_correlations\n",
    "from world_values_utils import plot_pca\n",
    "\n",
    "from world_values_pipelines import ridge_regression_pipeline\n",
    "from world_values_pipelines import lasso_regression_pipeline\n",
    "from world_values_pipelines import k_nearest_neighbors_regression_pipeline\n",
    "from world_values_pipelines import svm_classification_pipeline\n",
    "from world_values_pipelines import k_nearest_neighbors_classification_pipeline\n",
    "\n",
    "from world_values_parameters import regression_ridge_parameters\n",
    "from world_values_parameters import regression_lasso_parameters\n",
    "from world_values_parameters import regression_knn_parameters\n",
    "from world_values_parameters import classification_svm_parameters\n",
    "from world_values_parameters import classification_knn_parameters\n",
    "\n",
    "\n",
    "def main():\n",
    "    # Import Data #\n",
    "    values_train, hdi_train, values_test = import_world_values_data()\n",
    "\n",
    "    # Center the HDI Values #\n",
    "    hdi_scaler = StandardScaler(with_std=True)\n",
    "    hdi_shifted_train = hdi_scaler.fit_transform(hdi_train)\n",
    "\n",
    "    # Classification Data #\n",
    "    hdi_class_train = hdi_train['2015'].apply(hdi_classification)    \n",
    "\n",
    "    # Classification Grid Searches #\n",
    "    classification_grid_searches(training_features=values_train,\n",
    "                                 training_classes=hdi_class_train)\n",
    "\n",
    "\n",
    "if __name__ == '__main__':\n",
    "    main()"
   ]
  },
  {
   "cell_type": "markdown",
   "metadata": {},
   "source": [
    "Part X:"
   ]
  },
  {
   "cell_type": "code",
   "execution_count": 7,
   "metadata": {
    "collapsed": false
   },
   "outputs": [
    {
     "name": "stdout",
     "output_type": "stream",
     "text": [
      "[[-258.66721197]]\n"
     ]
    },
    {
     "name": "stderr",
     "output_type": "stream",
     "text": [
      "C:\\Users\\laura_brink\\AppData\\Local\\Continuum\\Anaconda3\\lib\\site-packages\\sklearn\\utils\\validation.py:395: DeprecationWarning: Passing 1d arrays as data is deprecated in 0.17 and will raise ValueError in 0.19. Reshape your data either using X.reshape(-1, 1) if your data has a single feature or X.reshape(1, -1) if it contains a single sample.\n",
      "  DeprecationWarning)\n"
     ]
    }
   ],
   "source": [
    "# the hdi of berkeley\n",
    "berkeley=[68,46,26,116,98,198,83,115,78,118,39,116,58,99,64,89] \n",
    "\n",
    "from sklearn.linear_model import Ridge\n",
    "import numpy as np\n",
    "values_train, hdi_train, values_test = import_world_values_data()\n",
    "clf = Ridge(alpha=0.015399999999999968)\n",
    "clf.fit(values_train,hdi_train) \n",
    "predict=clf.predict(berkeley)\n",
    "\n",
    "print(predict)"
   ]
  },
  {
   "cell_type": "markdown",
   "metadata": {},
   "source": [
    "Part Y:"
   ]
  },
  {
   "cell_type": "markdown",
   "metadata": {},
   "source": [
    "Part Z: From this problem, I learned how to use Sklearn a bit better and how scaling affects the different algorithms. But I don't really like the problems with starter code because I never get a full understanding of what is happening with the code.  This was a very manageable problem that we got to do a lot with."
   ]
  },
  {
   "cell_type": "markdown",
   "metadata": {},
   "source": [
    "# 4. Matching Pursuit"
   ]
  },
  {
   "cell_type": "markdown",
   "metadata": {},
   "source": [
    "Implement matching pursuit on the data:\n",
    "Set w=0.  Then move wi such that Xw will be closest to y.  Plot the error when changing the number of wi elements we want to be zero"
   ]
  },
  {
   "cell_type": "code",
   "execution_count": 29,
   "metadata": {
    "collapsed": false
   },
   "outputs": [
    {
     "data": {
      "image/png": "[encoded data removed]",
      "text/plain": [
       "<matplotlib.figure.Figure at 0x2f61aa19c50>"
      ]
     },
     "metadata": {},
     "output_type": "display_data"
    }
   ],
   "source": [
    "import numpy as np\n",
    "import matplotlib.pyplot as plt\n",
    "from sklearn.linear_model import OrthogonalMatchingPursuit\n",
    "\n",
    "\n",
    "N=50 # number of samples\n",
    "D=10 # number of features\n",
    "# generate X with N samples and D features\n",
    "X= 3*np.random.rand(N,D)\n",
    "W= 2*np.random.rand(D,1)\n",
    "Y= np.dot(X,W)+np.random.rand(N,1)\n",
    "\n",
    "error=np.zeros(D)\n",
    "plt.figure()\n",
    "\n",
    "for j in range(1,D):\n",
    "    n_nonzero_coefs=j\n",
    "\n",
    "    omp = OrthogonalMatchingPursuit(n_nonzero_coefs=n_nonzero_coefs)\n",
    "    omp.fit(X, Y)\n",
    "    coef = omp.coef_\n",
    "    idx_r, = coef.nonzero()\n",
    "\n",
    "    error[j]=1/N*np.linalg.norm(np.dot(X,coef)-Y,2)\n",
    "    plt.plot(j,error[j],\"o\")\n",
    "\n",
    "plt.show()\n",
    "\n"
   ]
  }
 ],
 "metadata": {
  "kernelspec": {
   "display_name": "Python 3",
   "language": "python",
   "name": "python3"
  },
  "language_info": {
   "codemirror_mode": {
    "name": "ipython",
    "version": 3
   },
   "file_extension": ".py",
   "mimetype": "text/x-python",
   "name": "python",
   "nbconvert_exporter": "python",
   "pygments_lexer": "ipython3",
   "version": "3.6.0"
  }
 },
 "nbformat": 4,
 "nbformat_minor": 2
}
